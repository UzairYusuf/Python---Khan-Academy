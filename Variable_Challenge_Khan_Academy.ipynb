{
  "nbformat": 4,
  "nbformat_minor": 0,
  "metadata": {
    "colab": {
      "provenance": [],
      "authorship_tag": "ABX9TyPJ9j5pN6MrAdSqCADm7YmH",
      "include_colab_link": true
    },
    "kernelspec": {
      "name": "python3",
      "display_name": "Python 3"
    },
    "language_info": {
      "name": "python"
    }
  },
  "cells": [
    {
      "cell_type": "markdown",
      "metadata": {
        "id": "view-in-github",
        "colab_type": "text"
      },
      "source": [
        "<a href=\"https://colab.research.google.com/github/UzairYusuf/Python---Khan-Academy/blob/main/Variable_Challenge_Khan_Academy.ipynb\" target=\"_parent\"><img src=\"https://colab.research.google.com/assets/colab-badge.svg\" alt=\"Open In Colab\"/></a>"
      ]
    },
    {
      "cell_type": "markdown",
      "source": [
        "Sofia wants to help users navigate around the Khan Academy site by constructing URLs to different pages.\n",
        "\n",
        "The site offers content in several languages, indicated in the URL by a language code like es or pt."
      ],
      "metadata": {
        "id": "m_phaTLxAEWP"
      }
    },
    {
      "cell_type": "code",
      "execution_count": 1,
      "metadata": {
        "colab": {
          "base_uri": "https://localhost:8080/"
        },
        "id": "9PjglxbH__CP",
        "outputId": "bc36690d-f174-4f0c-fc2e-8219d9c3a601"
      },
      "outputs": [
        {
          "output_type": "stream",
          "name": "stdout",
          "text": [
            "Navigate to the page below!\n",
            "https://es.khanacademy.org/computing\n"
          ]
        }
      ],
      "source": [
        "# Language codes include \"pt\" for Portuguese and \"es\" for Spanish.\n",
        "language_code = \"es\"\n",
        "\n",
        "# Subjects can be math, science, computing, or humanities.\n",
        "subject = \"computing\"\n",
        "\n",
        "url = \"https://\" + language_code + \".khanacademy.org/\" + subject\n",
        "\n",
        "print(\"Navigate to the page below!\")\n",
        "print(url)"
      ]
    },
    {
      "cell_type": "code",
      "source": [
        "# Language codes include \"pt\" for Portuguese and \"es\" for Spanish.\n",
        "language_code = \"es\"\n",
        "\n",
        "# Subjects can be math, science, computing, or humanities.\n",
        "subject = input(\"Enter desired subject : \")\n",
        "\n",
        "url = \"https://\" + language_code + \".khanacademy.org/\" + subject\n",
        "\n",
        "print(\"Navigate to the page below!\")\n",
        "print(url)"
      ],
      "metadata": {
        "colab": {
          "base_uri": "https://localhost:8080/"
        },
        "id": "p7HqCTvTMG_o",
        "outputId": "4e5983d0-c669-41ca-a7ee-3658d2b860fe"
      },
      "execution_count": 3,
      "outputs": [
        {
          "output_type": "stream",
          "name": "stdout",
          "text": [
            "Enter desired subject : science\n",
            "Navigate to the page below!\n",
            "https://es.khanacademy.org/science\n"
          ]
        }
      ]
    },
    {
      "cell_type": "code",
      "source": [
        "# Language codes include \"pt\" for Portuguese and \"es\" for Spanish.\n",
        "language_code = \"es\"\n",
        "\n",
        "# Subjects can be math, science, computing, or humanities.\n",
        "subject = input(\"Enter desired subject : \")\n",
        "\n",
        "url = \"https://\" + language_code + \".khanacademy.org/\" + subject\n",
        "\n",
        "print(\"Navigate to the \" + subject + \" page below!\")\n",
        "print(url)"
      ],
      "metadata": {
        "colab": {
          "base_uri": "https://localhost:8080/"
        },
        "id": "QrAXeDbiNVS6",
        "outputId": "f3b358a8-0bb4-45d6-ca8c-8cc6ff350572"
      },
      "execution_count": 4,
      "outputs": [
        {
          "output_type": "stream",
          "name": "stdout",
          "text": [
            "Enter desired subject : math\n",
            "Navigate to the math page below!\n",
            "https://es.khanacademy.org/math\n"
          ]
        }
      ]
    }
  ]
}