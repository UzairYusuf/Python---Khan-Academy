{
  "nbformat": 4,
  "nbformat_minor": 0,
  "metadata": {
    "colab": {
      "provenance": [],
      "authorship_tag": "ABX9TyME+yYZVeCTjUFqCviCJgpN",
      "include_colab_link": true
    },
    "kernelspec": {
      "name": "python3",
      "display_name": "Python 3"
    },
    "language_info": {
      "name": "python"
    }
  },
  "cells": [
    {
      "cell_type": "markdown",
      "metadata": {
        "id": "view-in-github",
        "colab_type": "text"
      },
      "source": [
        "<a href=\"https://colab.research.google.com/github/UzairYusuf/Python---Khan-Academy/blob/main/Arithmatic_Ops_Khan_Academy.ipynb\" target=\"_parent\"><img src=\"https://colab.research.google.com/assets/colab-badge.svg\" alt=\"Open In Colab\"/></a>"
      ]
    },
    {
      "cell_type": "code",
      "execution_count": null,
      "metadata": {
        "id": "5bs2bImaX2_3",
        "colab": {
          "base_uri": "https://localhost:8080/"
        },
        "outputId": "a9ab224e-d49c-49ab-9d71-419485b00478"
      },
      "outputs": [
        {
          "output_type": "stream",
          "name": "stdout",
          "text": [
            "How many servings? 5\n",
            "15 grams\n"
          ]
        }
      ],
      "source": [
        "#Order of operations with function callsv\n",
        "num_servings = int(input(\"How many servings? \"))\n",
        "spices = num_servings * (8 - 2) / 4\n",
        "\n",
        "# The spice jar only has 7 grams of nutmeg left.\n",
        "spices = min(spices, 7) + max(num_servings, 4)\n",
        "print(str(round(spices + 3, 2)) + \" grams\")"
      ]
    },
    {
      "cell_type": "code",
      "source": [
        "wins =input(\"wins : \")\n",
        "ties = input(\"Ties : \")\n",
        "\n",
        "# Football teams earn 3 points for a win and 1 for a tie.\n",
        "print(int(wins) * 3 + int(ties))"
      ],
      "metadata": {
        "colab": {
          "base_uri": "https://localhost:8080/"
        },
        "id": "qyyMiBqrDTaN",
        "outputId": "aec9e14c-4342-4c73-d146-20ca26e10d10"
      },
      "execution_count": null,
      "outputs": [
        {
          "output_type": "stream",
          "name": "stdout",
          "text": [
            "wins : 3\n",
            "Ties : 4\n",
            "13\n"
          ]
        }
      ]
    },
    {
      "cell_type": "markdown",
      "source": [
        "Python style guide"
      ],
      "metadata": {
        "id": "7GaDt5uZH9vE"
      }
    },
    {
      "cell_type": "code",
      "source": [
        "# Spacing and blank lines\n",
        "#Use a single space before and after an operator. Do not use a space before or after a parenthesis, unless it's next to an operator.\n",
        "#Use blank lines to separate groups of related lines of code. Organize code into logical sections, like paragraphs in an essay.\n",
        "\n",
        "height = 10\n",
        "area = (4 + 7) / 2 * height\n",
        "print(\"The area is \" + str(area) + \" cm^2.\")"
      ],
      "metadata": {
        "colab": {
          "base_uri": "https://localhost:8080/"
        },
        "id": "NcKZGgl9Hpsd",
        "outputId": "7550e9ef-bcbf-4e72-b09a-61a2363a8c0b"
      },
      "execution_count": null,
      "outputs": [
        {
          "output_type": "stream",
          "name": "stdout",
          "text": [
            "The area is 55.0 cm^2.\n"
          ]
        }
      ]
    },
    {
      "cell_type": "code",
      "source": [
        "#Line length - Limit lines of code to a maximum of 79 characters.\n",
        "#You can wrap a long expression in parentheses to split it across multiple lines.\n",
        "#This works for both arithmetic expressions and strings."
      ],
      "metadata": {
        "id": "h4fD2FynJBgd"
      },
      "execution_count": null,
      "outputs": []
    }
  ]
}