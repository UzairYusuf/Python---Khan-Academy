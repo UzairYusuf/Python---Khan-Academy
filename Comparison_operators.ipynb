{
  "nbformat": 4,
  "nbformat_minor": 0,
  "metadata": {
    "colab": {
      "provenance": [],
      "authorship_tag": "ABX9TyPSzOVAtQb7FOiZ3VjQfluW",
      "include_colab_link": true
    },
    "kernelspec": {
      "name": "python3",
      "display_name": "Python 3"
    },
    "language_info": {
      "name": "python"
    }
  },
  "cells": [
    {
      "cell_type": "markdown",
      "metadata": {
        "id": "view-in-github",
        "colab_type": "text"
      },
      "source": [
        "<a href=\"https://colab.research.google.com/github/UzairYusuf/Python---Khan-Academy/blob/main/Comparison_operators.ipynb\" target=\"_parent\"><img src=\"https://colab.research.google.com/assets/colab-badge.svg\" alt=\"Open In Colab\"/></a>"
      ]
    },
    {
      "cell_type": "code",
      "execution_count": null,
      "metadata": {
        "id": "lq2hpHugbzgj"
      },
      "outputs": [],
      "source": []
    },
    {
      "cell_type": "markdown",
      "source": [
        "**Boolean expressions**\n",
        "\n",
        "operator\tcomparison\texample\tasks\n",
        "\n",
        "==\tequality\tx == y\tis x equal to y?\n",
        "\n",
        "!=\tinequality\tx != y\tis x not equal to y?\n",
        "\n",
        "<\tlesser\tx < y\tis x less than y?\n",
        "\n",
        "<=\tlesser or equal\tx <= y\tis x less than or equal to y?\n",
        "\n",
        "'>'\tgreater\tx > y\tis x greater than y?\n",
        "\n",
        "'>='\tgreater or equal\tx >= y\tis x greater than or equal to y?\n"
      ],
      "metadata": {
        "id": "5FxV28x4b6NS"
      }
    },
    {
      "cell_type": "code",
      "source": [],
      "metadata": {
        "id": "s1nbkcTadMg1"
      },
      "execution_count": null,
      "outputs": []
    },
    {
      "cell_type": "markdown",
      "source": [
        "**Sorting strings**\n",
        "\n",
        "Sorts strings in a case-sensitive dictionary order: 0-9, A-Z, a-z"
      ],
      "metadata": {
        "id": "XhGtVd2xcdt8"
      }
    },
    {
      "cell_type": "code",
      "source": [
        "username = input(\"Pick a username: \")\n",
        "\n",
        "# Usernames must have at least one character.\n",
        "is_empty = username == \"\"\n",
        "print(\"Is your username empty? \" + str(is_empty))\n",
        "\n",
        "# Your username can't be the same as mine.\n",
        "is_available = username != \"the_real_kim\"\n",
        "print(\"Is your username available? \" + str(is_available))\n",
        "\n",
        "# The list of usernames is displayed alphabetically.\n",
        "comes_first = username < \"the_real_kim\"\n",
        "print(\"Does your username come before mine? \" + str(comes_first))\n",
        "\n",
        "# Usernames must have 5 or more characters.\n",
        "has_min_chars = len(username) >= 5\n",
        "print(\"Is your username at least 5 characters long? \" + str(has_min_chars))"
      ],
      "metadata": {
        "colab": {
          "base_uri": "https://localhost:8080/"
        },
        "id": "CqG_O3WHxQQ3",
        "outputId": "73371e67-f14d-49e2-cd48-ee5b0fb97d4e"
      },
      "execution_count": null,
      "outputs": [
        {
          "output_type": "stream",
          "name": "stdout",
          "text": [
            "Pick a username: \n",
            "Is your username empty? True\n",
            "Is your username available? True\n",
            "Does your username come before mine? True\n",
            "Is your username at least 5 characters long? False\n"
          ]
        }
      ]
    },
    {
      "cell_type": "code",
      "source": [
        "print(\"Beginning flight.\")\n",
        "elevation = float(input(\"Input elevation = \"))\n",
        "\n",
        "if elevation < 8.0:\n",
        "    elevation = elevation + 6.0\n",
        "    print(\"Increasing altitude.\")\n",
        "\n",
        "if elevation > 10.5:\n",
        "    elevation = elevation - 4.0\n",
        "    print(\"Starting descent.\")"
      ],
      "metadata": {
        "colab": {
          "base_uri": "https://localhost:8080/"
        },
        "id": "HPfaxY4y9ysP",
        "outputId": "6a1524b3-f375-4d1c-dba6-96cbb39b83e5"
      },
      "execution_count": null,
      "outputs": [
        {
          "output_type": "stream",
          "name": "stdout",
          "text": [
            "Beginning flight.\n",
            "Input elevation = 11\n",
            "Starting descent.\n"
          ]
        }
      ]
    },
    {
      "cell_type": "markdown",
      "source": [
        "**Trash small plastics**\n",
        "\n",
        "The app also asks for the length of the item in centimeters. Unfortunately, the recycling service cannot recycle small plastic items like bottle caps because they get caught in the recycling equipment.\n",
        "\n",
        "Set waste_type to the value \"trash\" if a plastic item is smaller than 7.5 cm.\n",
        "You'll need to add new conditional that compares against the length value. Remember that the order you check the conditions and update waste_type matters!\n",
        "\n",
        "Large plastic items should go in the recycling, small plastic items should go in the trash, and all other items should go in the trash."
      ],
      "metadata": {
        "id": "OGFLJprjFR3r"
      }
    },
    {
      "cell_type": "code",
      "source": [
        "material = input(\"What material is it? \")\n",
        "length = float(input(\"What is its length in cm? \"))\n",
        "if material == \"plastic\":\n",
        "    waste_type = \"recycling\"\n",
        "    if length <= 7.5:\n",
        "        waste_type = \"trash\"\n",
        "else:\n",
        "    waste_type = \"trash\"\n",
        "print(\"Please deposit your item in the \" + waste_type + \" bin.\")"
      ],
      "metadata": {
        "colab": {
          "base_uri": "https://localhost:8080/"
        },
        "id": "Z09RvRxSE_BL",
        "outputId": "8325034e-cc11-44f5-d12b-48c428b87189"
      },
      "execution_count": 2,
      "outputs": [
        {
          "output_type": "stream",
          "name": "stdout",
          "text": [
            "What material is it? plastic\n",
            "What is its length in cm? 9\n",
            "Please deposit your item in the recycling bin.\n"
          ]
        }
      ]
    }
  ]
}