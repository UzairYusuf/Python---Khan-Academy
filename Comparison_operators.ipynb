{
  "nbformat": 4,
  "nbformat_minor": 0,
  "metadata": {
    "colab": {
      "provenance": [],
      "authorship_tag": "ABX9TyOyiBBC24nydDN/0OOZGZni",
      "include_colab_link": true
    },
    "kernelspec": {
      "name": "python3",
      "display_name": "Python 3"
    },
    "language_info": {
      "name": "python"
    }
  },
  "cells": [
    {
      "cell_type": "markdown",
      "metadata": {
        "id": "view-in-github",
        "colab_type": "text"
      },
      "source": [
        "<a href=\"https://colab.research.google.com/github/UzairYusuf/Python---Khan-Academy/blob/main/Comparison_operators.ipynb\" target=\"_parent\"><img src=\"https://colab.research.google.com/assets/colab-badge.svg\" alt=\"Open In Colab\"/></a>"
      ]
    },
    {
      "cell_type": "code",
      "execution_count": null,
      "metadata": {
        "id": "lq2hpHugbzgj"
      },
      "outputs": [],
      "source": []
    },
    {
      "cell_type": "markdown",
      "source": [
        "**Boolean expressions**\n",
        "\n",
        "operator\tcomparison\texample\tasks\n",
        "\n",
        "==\tequality\tx == y\tis x equal to y?\n",
        "\n",
        "!=\tinequality\tx != y\tis x not equal to y?\n",
        "\n",
        "<\tlesser\tx < y\tis x less than y?\n",
        "\n",
        "<=\tlesser or equal\tx <= y\tis x less than or equal to y?\n",
        "\n",
        "'>'\tgreater\tx > y\tis x greater than y?\n",
        "\n",
        "'>='\tgreater or equal\tx >= y\tis x greater than or equal to y?\n"
      ],
      "metadata": {
        "id": "5FxV28x4b6NS"
      }
    },
    {
      "cell_type": "code",
      "source": [],
      "metadata": {
        "id": "s1nbkcTadMg1"
      },
      "execution_count": null,
      "outputs": []
    },
    {
      "cell_type": "markdown",
      "source": [
        "**Sorting strings**\n",
        "\n",
        "Sorts strings in a case-sensitive dictionary order: 0-9, A-Z, a-z"
      ],
      "metadata": {
        "id": "XhGtVd2xcdt8"
      }
    },
    {
      "cell_type": "code",
      "source": [
        "username = input(\"Pick a username: \")\n",
        "\n",
        "# Usernames must have at least one character.\n",
        "is_empty = username == \"\"\n",
        "print(\"Is your username empty? \" + str(is_empty))\n",
        "\n",
        "# Your username can't be the same as mine.\n",
        "is_available = username != \"the_real_kim\"\n",
        "print(\"Is your username available? \" + str(is_available))\n",
        "\n",
        "# The list of usernames is displayed alphabetically.\n",
        "comes_first = username < \"the_real_kim\"\n",
        "print(\"Does your username come before mine? \" + str(comes_first))\n",
        "\n",
        "# Usernames must have 5 or more characters.\n",
        "has_min_chars = len(username) >= 5\n",
        "print(\"Is your username at least 5 characters long? \" + str(has_min_chars))"
      ],
      "metadata": {
        "colab": {
          "base_uri": "https://localhost:8080/"
        },
        "id": "CqG_O3WHxQQ3",
        "outputId": "73371e67-f14d-49e2-cd48-ee5b0fb97d4e"
      },
      "execution_count": null,
      "outputs": [
        {
          "output_type": "stream",
          "name": "stdout",
          "text": [
            "Pick a username: \n",
            "Is your username empty? True\n",
            "Is your username available? True\n",
            "Does your username come before mine? True\n",
            "Is your username at least 5 characters long? False\n"
          ]
        }
      ]
    },
    {
      "cell_type": "code",
      "source": [
        "print(\"Beginning flight.\")\n",
        "elevation = float(input(\"Input elevation = \"))\n",
        "\n",
        "if elevation < 8.0:\n",
        "    elevation = elevation + 6.0\n",
        "    print(\"Increasing altitude.\")\n",
        "\n",
        "if elevation > 10.5:\n",
        "    elevation = elevation - 4.0\n",
        "    print(\"Starting descent.\")"
      ],
      "metadata": {
        "colab": {
          "base_uri": "https://localhost:8080/"
        },
        "id": "HPfaxY4y9ysP",
        "outputId": "6a1524b3-f375-4d1c-dba6-96cbb39b83e5"
      },
      "execution_count": null,
      "outputs": [
        {
          "output_type": "stream",
          "name": "stdout",
          "text": [
            "Beginning flight.\n",
            "Input elevation = 11\n",
            "Starting descent.\n"
          ]
        }
      ]
    }
  ]
}