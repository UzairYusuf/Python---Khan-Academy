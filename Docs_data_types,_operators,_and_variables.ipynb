{
  "nbformat": 4,
  "nbformat_minor": 0,
  "metadata": {
    "colab": {
      "provenance": [],
      "authorship_tag": "ABX9TyOmT0lwuLbsfw1Y7+IEquO1",
      "include_colab_link": true
    },
    "kernelspec": {
      "name": "python3",
      "display_name": "Python 3"
    },
    "language_info": {
      "name": "python"
    }
  },
  "cells": [
    {
      "cell_type": "markdown",
      "metadata": {
        "id": "view-in-github",
        "colab_type": "text"
      },
      "source": [
        "<a href=\"https://colab.research.google.com/github/UzairYusuf/Python---Khan-Academy/blob/main/Docs_data_types%2C_operators%2C_and_variables.ipynb\" target=\"_parent\"><img src=\"https://colab.research.google.com/assets/colab-badge.svg\" alt=\"Open In Colab\"/></a>"
      ]
    },
    {
      "cell_type": "markdown",
      "source": [
        "**Data types**\n",
        "\n",
        "A data type categorizes a value so that the computer knows how to interpret it.\n",
        "data type\tdescription\texample\n",
        "\n",
        "integer\twhole number\t5\n",
        "\n",
        "float\tdecimal number\t12.4\n",
        "\n",
        "string\ttext, enclosed in quotes\t\"happy birthday\"\n",
        "\n",
        "boolean\ttruth value\tFalse"
      ],
      "metadata": {
        "id": "ID-rsRGAOqtO"
      }
    },
    {
      "cell_type": "markdown",
      "source": [
        "**Arithmetic operators**\n",
        "\n",
        "\n",
        "An arithmetic operator combines two values to form an arithmetic expression. An expression evaluates down to a single value.\n",
        "operator\toperation\texample:\n",
        "\n",
        "'+'\taddition\tx + y\n",
        "\n",
        "'-'\tsubtraction\tx - y\n",
        "\n",
        "'*'\tmultiplication\tx * y\n",
        "\n",
        "'**'\texponentiation\tx ** y\n",
        "\n",
        "'/'\tfloat division\tx / y\n",
        "\n",
        "'//'\tfloor division\tx // y\n",
        "\n",
        "'%'\tmodulus (remainder)\tx % y"
      ],
      "metadata": {
        "id": "jjxhpUdzOxiP"
      }
    },
    {
      "cell_type": "markdown",
      "source": [
        "**Built-in functions**\n",
        "\n",
        "Python comes installed with some pre-defined functions. We can find the full list of built-in functions (https://docs.python.org/3.11/library/functions.html) in the official Python docs.\n",
        "\n",
        "function\tdescription\n",
        "\n",
        "print(x)\tDisplays the value x in the console.\n",
        "\n",
        "input(x)\tPrompts the user to enter a value in the console.\n",
        "\n",
        "abs(x)\tReturns the absolute value of x.\n",
        "\n",
        "round(x)\tReturns x rounded to the nearest integer.\n",
        "\n",
        "round(x, y)\tReturns x rounded to the yth decimal place.\n",
        "\n",
        "min(x, y)\tReturns the smallest of the input values.\n",
        "\n",
        "max(x, y)\tReturns the largest of the input values.\n",
        "\n",
        "len(x)\tReturns the number of characters in the string x."
      ],
      "metadata": {
        "id": "w1FPH2-cPlVd"
      }
    },
    {
      "cell_type": "markdown",
      "source": [
        "**Type casting**\n",
        "\n",
        "The type casting functions convert a value from one data type to another.\n",
        "function\tdescription\texample\n",
        "\n",
        "int()\tConverts a numeric value to an integer.\tint(\"87\")\n",
        "\n",
        "float()\tConverts a numeric value to a float.\tfloat(\"4.5\")\n",
        "\n",
        "str()\tConverts a value to a string.\tstr(129)\n",
        "\n",
        "bool()\tConverts a value to a boolean.\tbool(0)"
      ],
      "metadata": {
        "id": "WPpFoxDqQ2Xp"
      }
    },
    {
      "cell_type": "markdown",
      "source": [
        "**User input**\n",
        "\n",
        "The input() function prompts the user to enter a value in the console. It returns the entered value as a string."
      ],
      "metadata": {
        "id": "2DGTGmzERYYk"
      }
    }
  ]
}