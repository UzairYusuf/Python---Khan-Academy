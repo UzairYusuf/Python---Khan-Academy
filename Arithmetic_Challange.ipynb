{
  "nbformat": 4,
  "nbformat_minor": 0,
  "metadata": {
    "colab": {
      "provenance": [],
      "authorship_tag": "ABX9TyPcjj1QLKg1jDbcipwLQ5qo",
      "include_colab_link": true
    },
    "kernelspec": {
      "name": "python3",
      "display_name": "Python 3"
    },
    "language_info": {
      "name": "python"
    }
  },
  "cells": [
    {
      "cell_type": "markdown",
      "metadata": {
        "id": "view-in-github",
        "colab_type": "text"
      },
      "source": [
        "<a href=\"https://colab.research.google.com/github/UzairYusuf/Python---Khan-Academy/blob/main/Arithmetic_Challange.ipynb\" target=\"_parent\"><img src=\"https://colab.research.google.com/assets/colab-badge.svg\" alt=\"Open In Colab\"/></a>"
      ]
    },
    {
      "cell_type": "markdown",
      "source": [
        "Fix the TypeErrors\n",
        "\n",
        "Travis saved up to buy a new pair of cleats. He wants to make sure he gets the best price, so he built a browser extension to help him compare coupon codes.\n",
        "\n",
        "The cleats currently cost $99.99, but when Travis runs the program and enters 99.99 at the prompt, he gets a TypeError.\n",
        "\n",
        "Identify and add the two missing type conversions such that the program runs without any errors.\n",
        "Recall that you can convert between data types with the str(), int(), and float() functions. The format of the program output should not change. Use round() to round off : round(num, 2) ie upto two decimal\n",
        "\n",
        "\n",
        "Code editor\n"
      ],
      "metadata": {
        "id": "JLsG29ohV5-_"
      }
    },
    {
      "cell_type": "code",
      "execution_count": null,
      "metadata": {
        "id": "EG8KANXtVmGf",
        "colab": {
          "base_uri": "https://localhost:8080/"
        },
        "outputId": "f5976614-6b58-41fe-abff-90795e434f59"
      },
      "outputs": [
        {
          "output_type": "stream",
          "name": "stdout",
          "text": [
            "Enter cart total: 89.7869\n",
            "Your best price is $76.32\n"
          ]
        }
      ],
      "source": [
        "#Fix the TypeErrors\n",
        "base_price = float(input(\"Enter cart total: \"))\n",
        "\n",
        "# Available coupon codes include 15% off and $12 off.\n",
        "percent_discount = float(base_price - base_price * .15)\n",
        "fixed_discount = float(base_price - 12)\n",
        "\n",
        "# Pick the coupon that offers the best discount.\n",
        "final_price = min(fixed_discount, percent_discount)\n",
        "final_price = (round(final_price, 2))\n",
        "print(\"Your best price is $\" + str(final_price))"
      ]
    },
    {
      "cell_type": "markdown",
      "source": [
        "Travis can’t find the cleats at a local store, so he wants to include the shipping cost in the final price. Shipping costs can vary, so he decides to let the user enter the shipping cost themselves.\n",
        "\n",
        "Add a new input() prompt that asks the user to enter a shipping cost.\n",
        "Add the entered shipping cost to the final price.\n",
        "You’ll need to store the result of the input() call in a new variable. Remember that the shipping cost may include cents, like 7.99.\n",
        "\n",
        "Code editor\n",
        "Code"
      ],
      "metadata": {
        "id": "52qJtOe4iilK"
      }
    },
    {
      "cell_type": "code",
      "source": [
        "#Adding shipping cost\n",
        "base_price = float(input(\"Enter cart total: \"))\n",
        "ship_cost = float(input(\"Enter shipping cost: \"))\n",
        "\n",
        "# Available coupon codes include 15% off and $12 off.\n",
        "percent_discount = float(base_price - base_price * .15)\n",
        "fixed_discount = float(base_price - 12)\n",
        "\n",
        "# Pick the coupon that offers the best discount.\n",
        "final_price = min(fixed_discount, percent_discount)\n",
        "final_price = final_price + ship_cost\n",
        "final_price = (round(final_price, 2))\n",
        "print(\"Your best price is $\" + str(final_price))"
      ],
      "metadata": {
        "colab": {
          "base_uri": "https://localhost:8080/"
        },
        "id": "aIz9l5ziit17",
        "outputId": "d58ecef2-8fd8-4c14-8897-d586a6461a41"
      },
      "execution_count": null,
      "outputs": [
        {
          "output_type": "stream",
          "name": "stdout",
          "text": [
            "Enter cart total: 45\n",
            "Enter shipping cost: 7.99\n",
            "Your best price is $40.99\n"
          ]
        }
      ]
    }
  ]
}